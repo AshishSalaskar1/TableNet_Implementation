{
  "nbformat": 4,
  "nbformat_minor": 0,
  "metadata": {
    "colab": {
      "name": "CS2_Flask_Server.ipynb",
      "provenance": [],
      "collapsed_sections": [],
      "machine_shape": "hm"
    },
    "kernelspec": {
      "name": "python3",
      "display_name": "Python 3"
    },
    "language_info": {
      "name": "python"
    },
    "accelerator": "GPU"
  },
  "cells": [
    {
      "cell_type": "code",
      "metadata": {
        "id": "q57lfk7BTGtU",
        "colab": {
          "base_uri": "https://localhost:8080/"
        },
        "outputId": "b2b342f5-a141-412f-84c7-93dd42b433aa"
      },
      "source": [
        "!pip install flask-ngrok\n",
        "!pip install pytesseract\n",
        "!gdown --id \"1P3rZ9_wbiiKw3uomOnEnDGZ0rdPety1S\"\n",
        "!unzip tablenet_model.zip\n",
        "!apt install tesseract-ocr\n",
        "!apt install libtesseract-dev"
      ],
      "execution_count": null,
      "outputs": [
        {
          "output_type": "stream",
          "text": [
            "Collecting flask-ngrok\n",
            "  Downloading flask_ngrok-0.0.25-py3-none-any.whl (3.1 kB)\n",
            "Requirement already satisfied: Flask>=0.8 in /usr/local/lib/python3.7/dist-packages (from flask-ngrok) (1.1.4)\n",
            "Requirement already satisfied: requests in /usr/local/lib/python3.7/dist-packages (from flask-ngrok) (2.23.0)\n",
            "Requirement already satisfied: click<8.0,>=5.1 in /usr/local/lib/python3.7/dist-packages (from Flask>=0.8->flask-ngrok) (7.1.2)\n",
            "Requirement already satisfied: itsdangerous<2.0,>=0.24 in /usr/local/lib/python3.7/dist-packages (from Flask>=0.8->flask-ngrok) (1.1.0)\n",
            "Requirement already satisfied: Jinja2<3.0,>=2.10.1 in /usr/local/lib/python3.7/dist-packages (from Flask>=0.8->flask-ngrok) (2.11.3)\n",
            "Requirement already satisfied: Werkzeug<2.0,>=0.15 in /usr/local/lib/python3.7/dist-packages (from Flask>=0.8->flask-ngrok) (1.0.1)\n",
            "Requirement already satisfied: MarkupSafe>=0.23 in /usr/local/lib/python3.7/dist-packages (from Jinja2<3.0,>=2.10.1->Flask>=0.8->flask-ngrok) (2.0.1)\n",
            "Requirement already satisfied: certifi>=2017.4.17 in /usr/local/lib/python3.7/dist-packages (from requests->flask-ngrok) (2021.5.30)\n",
            "Requirement already satisfied: idna<3,>=2.5 in /usr/local/lib/python3.7/dist-packages (from requests->flask-ngrok) (2.10)\n",
            "Requirement already satisfied: urllib3!=1.25.0,!=1.25.1,<1.26,>=1.21.1 in /usr/local/lib/python3.7/dist-packages (from requests->flask-ngrok) (1.24.3)\n",
            "Requirement already satisfied: chardet<4,>=3.0.2 in /usr/local/lib/python3.7/dist-packages (from requests->flask-ngrok) (3.0.4)\n",
            "Installing collected packages: flask-ngrok\n",
            "Successfully installed flask-ngrok-0.0.25\n",
            "Collecting pytesseract\n",
            "  Downloading pytesseract-0.3.8.tar.gz (14 kB)\n",
            "Requirement already satisfied: Pillow in /usr/local/lib/python3.7/dist-packages (from pytesseract) (7.1.2)\n",
            "Building wheels for collected packages: pytesseract\n",
            "  Building wheel for pytesseract (setup.py) ... \u001b[?25l\u001b[?25hdone\n",
            "  Created wheel for pytesseract: filename=pytesseract-0.3.8-py2.py3-none-any.whl size=14072 sha256=20d93fbb12dc879b3a030b6849ad521bd4dfbea3b31e724935cb41b3581076cd\n",
            "  Stored in directory: /root/.cache/pip/wheels/a4/89/b9/3f11250225d0f90e5454fcc30fd1b7208db226850715aa9ace\n",
            "Successfully built pytesseract\n",
            "Installing collected packages: pytesseract\n",
            "Successfully installed pytesseract-0.3.8\n",
            "Downloading...\n",
            "From: https://drive.google.com/uc?id=1P3rZ9_wbiiKw3uomOnEnDGZ0rdPety1S\n",
            "To: /content/tablenet_model.zip\n",
            "75.1MB [00:00, 133MB/s] \n",
            "Archive:  tablenet_model.zip\n",
            "   creating: saved_model/\n",
            "   creating: saved_model/variables/\n",
            "  inflating: saved_model/variables/variables.index  \n",
            "  inflating: saved_model/variables/variables.data-00000-of-00001  \n",
            "  inflating: saved_model/keras_metadata.pb  \n",
            "  inflating: saved_model/saved_model.pb  \n",
            "   creating: saved_model/assets/\n",
            "Reading package lists... Done\n",
            "Building dependency tree       \n",
            "Reading state information... Done\n",
            "The following package was automatically installed and is no longer required:\n",
            "  libnvidia-common-460\n",
            "Use 'apt autoremove' to remove it.\n",
            "The following additional packages will be installed:\n",
            "  tesseract-ocr-eng tesseract-ocr-osd\n",
            "The following NEW packages will be installed:\n",
            "  tesseract-ocr tesseract-ocr-eng tesseract-ocr-osd\n",
            "0 upgraded, 3 newly installed, 0 to remove and 40 not upgraded.\n",
            "Need to get 4,795 kB of archives.\n",
            "After this operation, 15.8 MB of additional disk space will be used.\n",
            "Get:1 http://archive.ubuntu.com/ubuntu bionic/universe amd64 tesseract-ocr-eng all 4.00~git24-0e00fe6-1.2 [1,588 kB]\n",
            "Get:2 http://archive.ubuntu.com/ubuntu bionic/universe amd64 tesseract-ocr-osd all 4.00~git24-0e00fe6-1.2 [2,989 kB]\n",
            "Get:3 http://archive.ubuntu.com/ubuntu bionic/universe amd64 tesseract-ocr amd64 4.00~git2288-10f4998a-2 [218 kB]\n",
            "Fetched 4,795 kB in 2s (2,931 kB/s)\n",
            "Selecting previously unselected package tesseract-ocr-eng.\n",
            "(Reading database ... 148489 files and directories currently installed.)\n",
            "Preparing to unpack .../tesseract-ocr-eng_4.00~git24-0e00fe6-1.2_all.deb ...\n",
            "Unpacking tesseract-ocr-eng (4.00~git24-0e00fe6-1.2) ...\n",
            "Selecting previously unselected package tesseract-ocr-osd.\n",
            "Preparing to unpack .../tesseract-ocr-osd_4.00~git24-0e00fe6-1.2_all.deb ...\n",
            "Unpacking tesseract-ocr-osd (4.00~git24-0e00fe6-1.2) ...\n",
            "Selecting previously unselected package tesseract-ocr.\n",
            "Preparing to unpack .../tesseract-ocr_4.00~git2288-10f4998a-2_amd64.deb ...\n",
            "Unpacking tesseract-ocr (4.00~git2288-10f4998a-2) ...\n",
            "Setting up tesseract-ocr-osd (4.00~git24-0e00fe6-1.2) ...\n",
            "Setting up tesseract-ocr-eng (4.00~git24-0e00fe6-1.2) ...\n",
            "Setting up tesseract-ocr (4.00~git2288-10f4998a-2) ...\n",
            "Processing triggers for man-db (2.8.3-2ubuntu0.1) ...\n",
            "Reading package lists... Done\n",
            "Building dependency tree       \n",
            "Reading state information... Done\n",
            "The following package was automatically installed and is no longer required:\n",
            "  libnvidia-common-460\n",
            "Use 'apt autoremove' to remove it.\n",
            "The following additional packages will be installed:\n",
            "  libleptonica-dev\n",
            "The following NEW packages will be installed:\n",
            "  libleptonica-dev libtesseract-dev\n",
            "0 upgraded, 2 newly installed, 0 to remove and 40 not upgraded.\n",
            "Need to get 2,755 kB of archives.\n",
            "After this operation, 13.8 MB of additional disk space will be used.\n",
            "Get:1 http://archive.ubuntu.com/ubuntu bionic/universe amd64 libleptonica-dev amd64 1.75.3-3 [1,308 kB]\n",
            "Get:2 http://archive.ubuntu.com/ubuntu bionic/universe amd64 libtesseract-dev amd64 4.00~git2288-10f4998a-2 [1,447 kB]\n",
            "Fetched 2,755 kB in 2s (1,779 kB/s)\n",
            "Selecting previously unselected package libleptonica-dev.\n",
            "(Reading database ... 148536 files and directories currently installed.)\n",
            "Preparing to unpack .../libleptonica-dev_1.75.3-3_amd64.deb ...\n",
            "Unpacking libleptonica-dev (1.75.3-3) ...\n",
            "Selecting previously unselected package libtesseract-dev.\n",
            "Preparing to unpack .../libtesseract-dev_4.00~git2288-10f4998a-2_amd64.deb ...\n",
            "Unpacking libtesseract-dev (4.00~git2288-10f4998a-2) ...\n",
            "Setting up libleptonica-dev (1.75.3-3) ...\n",
            "Setting up libtesseract-dev (4.00~git2288-10f4998a-2) ...\n"
          ],
          "name": "stdout"
        }
      ]
    },
    {
      "cell_type": "code",
      "metadata": {
        "id": "pXRXVjsVUBWn"
      },
      "source": [
        "import cv2\n",
        "import matplotlib.pyplot as plt\n",
        "from collections import Counter\n",
        "from PIL import Image, ImageDraw\n",
        "from PIL import ImagePath \n",
        "import numpy as np\n",
        "import os\n",
        "import pandas as pd\n",
        "import json\n",
        "import tensorflow as tf\n",
        "import pytesseract\n",
        "import shutil\n",
        "from google.colab.patches import cv2_imshow"
      ],
      "execution_count": null,
      "outputs": []
    },
    {
      "cell_type": "code",
      "metadata": {
        "id": "ivqML9vSUO7t"
      },
      "source": [
        "model = tf.keras.models.load_model('./saved_model')"
      ],
      "execution_count": null,
      "outputs": []
    },
    {
      "cell_type": "code",
      "metadata": {
        "id": "qgV9jlDjJJyI"
      },
      "source": [
        "os.mkdir(\"./temp\")\n",
        "os.mkdir(\"./output\")"
      ],
      "execution_count": null,
      "outputs": []
    },
    {
      "cell_type": "markdown",
      "metadata": {
        "id": "G6IZdC7jXCs3"
      },
      "source": [
        "# Helper Methods"
      ]
    },
    {
      "cell_type": "code",
      "metadata": {
        "id": "ia6wVJ9ZXQIr"
      },
      "source": [
        "# given predicted boxes approximate the predicted rectangles\n",
        "def fil_approx_boxes(img):\n",
        "    cv2.imwrite(\"temp/test.jpeg\",img)\n",
        "    img = cv2.imread(\"temp/test.jpeg\",0)\n",
        "    img = cv2.medianBlur(img,5)\n",
        "    img = cv2.GaussianBlur(img,(13,13),0)\n",
        "    img = cv2.threshold(img, 254, 255, cv2.THRESH_BINARY)[1]\n",
        "\n",
        "    _, threshold = cv2.threshold(img, 254, 255, cv2.THRESH_BINARY_INV)\n",
        "    contours,_ = cv2.findContours(threshold, cv2.RETR_TREE , cv2.CHAIN_APPROX_SIMPLE)\n",
        "    for cnt in contours:\n",
        "        x,y,w,h = cv2.boundingRect(cnt)\n",
        "        if x==0 or y==0:\n",
        "            continue \n",
        "        cv2.rectangle(img,(x,y),(x+w,y+h),(255,255,255),-1)\n",
        "        \n",
        "    img = cv2.GaussianBlur(img,(13,13),0)\n",
        "    img = cv2.threshold(img, 254, 255, cv2.THRESH_BINARY)[1]\n",
        "    return img"
      ],
      "execution_count": null,
      "outputs": []
    },
    {
      "cell_type": "code",
      "metadata": {
        "id": "BdBmDpMrQpVn"
      },
      "source": [
        "# Save data into respective CSV Files\n",
        "def save_to_csv(csv_name,data):\n",
        "  delim = \" \"\n",
        "  if data.find(\",\") != -1:\n",
        "    delim = \",\"\n",
        "  elif data.find(\"|\") != -1:\n",
        "    delim = \"|\"\n",
        "\n",
        "  data_arr = data.split(\"\\n\")\n",
        "  data_arr = [arr for arr in data_arr if len(arr.strip()) != 0]\n",
        "  with open(csv_name+\".csv\",'w') as file:\n",
        "    for line in data_arr:\n",
        "      line = line.replace(delim,\",\")\n",
        "      file.write(line+\"\\n\")\n",
        "    file.close()\n"
      ],
      "execution_count": null,
      "outputs": []
    },
    {
      "cell_type": "code",
      "metadata": {
        "id": "fiiQQDFiYR5J"
      },
      "source": [
        "#  Given masked image, Save both tables and extract text from each\n",
        "def extract_text(img_path=\"temp/final_masked.jpeg\"):\n",
        "  img = cv2.imread(img_path,0)\n",
        "  org_img = img\n",
        "  img = cv2.GaussianBlur(img,(13,13),0)\n",
        "  img = cv2.threshold(img, 0,255, cv2.THRESH_BINARY)[1]\n",
        "  kernel = np.array([[-1,-1,-1], [-1,9,-1], [-1,-1,-1]])\n",
        "\n",
        "  _, threshold = cv2.threshold(img, 254, 255, cv2.THRESH_BINARY_INV)\n",
        "  contours,_ = cv2.findContours(threshold, cv2.RETR_TREE , cv2.CHAIN_APPROX_SIMPLE)\n",
        "  idx = 1\n",
        "  for cnt in contours:\n",
        "    file_name = \"output/Table_\"+str(idx)\n",
        "    x,y,w,h = cv2.boundingRect(cnt)\n",
        "    if x==0 or y==0 or w*h < 20000:\n",
        "        continue\n",
        "\n",
        "    roi = org_img[y:y+h, x:x+w]\n",
        "    roi = cv2.filter2D(roi, -1, kernel)\n",
        "    roi = cv2.resize(roi, (int(w*1.25),int(h*1.25)), interpolation = cv2.INTER_AREA)\n",
        "    # cv2_imshow(roi)\n",
        "    data = pytesseract.image_to_string(roi,config='--psm 6',lang='eng')\n",
        "    cv2.imwrite(file_name+\".jpeg\",roi) \n",
        "    save_to_csv(file_name,data)\n",
        "\n",
        "    idx += 1\n",
        "  "
      ],
      "execution_count": null,
      "outputs": []
    },
    {
      "cell_type": "code",
      "metadata": {
        "id": "sHzE62TnKS3K"
      },
      "source": [
        "# predict table and column masks and display\n",
        "def predict_table_masks(img):\n",
        "  res1, res2 = model.predict(np.array([img]))\n",
        "  res1 =  np.expand_dims(np.argmax(res1[0], axis=-1), axis=-1)\n",
        "  res2 = np.expand_dims(np.argmax(res2[0], axis=-1), axis=-1)\n",
        "  pred_col = np.squeeze(np.where(res1==1,255,0))\n",
        "  pred_table = np.squeeze(np.where(res2==1,255,0))\n",
        "\n",
        "  return fil_approx_boxes(pred_table),fil_approx_boxes(pred_col)\n"
      ],
      "execution_count": null,
      "outputs": []
    },
    {
      "cell_type": "code",
      "metadata": {
        "id": "qAKMKW2NXTli"
      },
      "source": [
        "# Predict masks and extract text\n",
        "def predict_and_extract(img_path):\n",
        "  for file_name in os.listdir(\"output\"):\n",
        "    os.remove(\"output/\"+file_name)\n",
        "\n",
        "  image = tf.io.read_file(img_path)\n",
        "  org_image = tf.image.decode_image(image, channels=3)\n",
        "  h,w = org_image.shape[0],org_image.shape[1]\n",
        "\n",
        "  image = tf.image.resize(org_image, [800, 800])\n",
        "  pred_table, pred_col = predict_table_masks(image)\n",
        "  tab = np.where(pred_table == 0,0,1)\n",
        "  mask = np.expand_dims(tab,axis=2)\n",
        "  mask = np.concatenate((mask,mask,mask),axis=2)\n",
        "  cv2.imwrite(\"temp/mask.jpeg\",mask)\n",
        "\n",
        "  mask = cv2.resize(cv2.imread(\"temp/mask.jpeg\"), (w,h), interpolation = cv2.INTER_AREA)\n",
        "  masked_img= org_image.numpy() * mask\n",
        "  cv2.imwrite(\"temp/final_masked.jpeg\",masked_img)\n",
        "  extract_text()\n",
        "  shutil.make_archive('output', 'zip', \"output/\")\n"
      ],
      "execution_count": null,
      "outputs": []
    },
    {
      "cell_type": "markdown",
      "metadata": {
        "id": "2xJBHh7_URhT"
      },
      "source": [
        "# Flask Server"
      ]
    },
    {
      "cell_type": "code",
      "metadata": {
        "id": "dJeJOVDKPsQe"
      },
      "source": [
        "from flask import *\n",
        "from flask_ngrok import run_with_ngrok\n",
        "app = Flask(__name__)\n",
        "run_with_ngrok(app)   \n",
        "  \n",
        "@app.route(\"/\")\n",
        "def home():\n",
        "  return render_template(\"home.html\",base_url=request.base_url)\n",
        "\n",
        "@app.route(\"/upload\",methods=['POST'])\n",
        "def upload():\n",
        "  f = request.files['file']\n",
        "  print(f.filename)\n",
        "  file_name = f.filename + f.filename.split(\".\")[-1]\n",
        "  f.save(file_name)\n",
        "  predict_and_extract(file_name)\n",
        "\n",
        "  return send_from_directory(\"./\", filename=\"output.zip\", as_attachment=True)\n",
        "\n",
        "    \n",
        "app.run()"
      ],
      "execution_count": null,
      "outputs": []
    },
    {
      "cell_type": "code",
      "metadata": {
        "id": "cKX8F4VoTE_f"
      },
      "source": [
        ""
      ],
      "execution_count": null,
      "outputs": []
    }
  ]
}